{
  "nbformat": 4,
  "nbformat_minor": 0,
  "metadata": {
    "colab": {
      "provenance": []
    },
    "kernelspec": {
      "name": "python3",
      "display_name": "Python 3"
    },
    "language_info": {
      "name": "python"
    }
  },
  "cells": [
    {
      "cell_type": "code",
      "execution_count": 1,
      "metadata": {
        "id": "hVXjWL3WYclV"
      },
      "outputs": [],
      "source": [
        "#Q1:-What are the five key concepts of Object-Oriented Programming (OOP)?\n",
        "#class:-A class is a blueprint for creating objects. It defines attributes and methods.\n",
        "\n",
        "class Dog:\n",
        "    def __init__(self, name):\n",
        "        self.name = name\n",
        "\n",
        "    def bark(self):\n",
        "        print(f\"{self.name} says woof!\")"
      ]
    },
    {
      "cell_type": "code",
      "source": [
        "#object:-An object is an instance of a class. It holds actual data and can use methods defined in the class.\n",
        "\n",
        "my_dog = Dog(\"Buddy\")\n",
        "my_dog.bark()"
      ],
      "metadata": {
        "colab": {
          "base_uri": "https://localhost:8080/"
        },
        "id": "NbZYYBSL45kx",
        "outputId": "8a4150f8-5259-4300-9c7a-464927cef78d"
      },
      "execution_count": 2,
      "outputs": [
        {
          "output_type": "stream",
          "name": "stdout",
          "text": [
            "Buddy says woof!\n"
          ]
        }
      ]
    },
    {
      "cell_type": "code",
      "source": [
        "#Encapsulationmeans hiding internal state and requiring all interaction to be performed through methods. Python uses a naming convention for \"private\" attributes.\n",
        "\n",
        "class Person:\n",
        "    def __init__(self, name):\n",
        "        self.__name = name  # private attribute\n",
        "\n",
        "    def get_name(self):\n",
        "        return self.__name"
      ],
      "metadata": {
        "id": "ULEoikC_45BD"
      },
      "execution_count": 3,
      "outputs": []
    },
    {
      "cell_type": "code",
      "source": [
        "#inheritance allows a class to derive from another class, inheriting its methods and attributes.\n",
        "class Animal:\n",
        "    def speak(self):\n",
        "        print(\"Some sound\")\n",
        "\n",
        "class Cat(Animal):\n",
        "    def speak(self):\n",
        "        print(\"Meow\")\n",
        "\n",
        "my_cat = Cat()\n",
        "my_cat.speak()"
      ],
      "metadata": {
        "colab": {
          "base_uri": "https://localhost:8080/"
        },
        "id": "4srfLM1G44xr",
        "outputId": "b80f2b80-a508-47da-ec5c-b30b7d3d1e89"
      },
      "execution_count": 4,
      "outputs": [
        {
          "output_type": "stream",
          "name": "stdout",
          "text": [
            "Meow\n"
          ]
        }
      ]
    },
    {
      "cell_type": "code",
      "source": [
        "#polymorphis mallows different classes to be used interchangeably if they share the same interface (methods).\n",
        "\n",
        "class Dog:\n",
        "    def speak(self):\n",
        "        print(\"Woof\")\n",
        "\n",
        "class Cat:\n",
        "    def speak(self):\n",
        "        print(\"Meow\")\n",
        "\n",
        "class Bird:\n",
        "    def speak(self):\n",
        "        print(\"Chirp\")\n",
        "\n",
        "def make_sound(animal):\n",
        "    animal.speak()\n",
        "\n",
        "make_sound(Dog())\n",
        "make_sound(Cat())\n",
        "make_sound(Bird())"
      ],
      "metadata": {
        "colab": {
          "base_uri": "https://localhost:8080/"
        },
        "id": "PJnPAy_G44hn",
        "outputId": "0f0dea1b-6942-4c90-b55b-2c1d79542b8a"
      },
      "execution_count": 5,
      "outputs": [
        {
          "output_type": "stream",
          "name": "stdout",
          "text": [
            "Woof\n",
            "Meow\n",
            "Chirp\n"
          ]
        }
      ]
    },
    {
      "cell_type": "code",
      "source": [
        "#Q2:-Write a Python class for a `Car` with attributes for `make`, `model`, and `year`. Include a method to display the car's information\n",
        "\n",
        "#Ans:-Here's a simple Python class for a Car with attributes make, model, and year, along with a method to display the car's information:\n",
        "class Car:\n",
        "    def __init__(self, make, model, year):\n",
        "        self.make = make\n",
        "        self.model = model\n",
        "        self.year = year\n",
        "\n",
        "    def display_info(self):\n",
        "        print(f\"Car: {self.year} {self.make} {self.model}\")\n",
        "\n",
        "my_car = Car(\"Toyota\", \"Corolla\", 2022)\n",
        "my_car.display_info()"
      ],
      "metadata": {
        "colab": {
          "base_uri": "https://localhost:8080/"
        },
        "id": "A83hEaJm6dBl",
        "outputId": "2bebe6a7-c517-497d-f140-b3c81af62ee8"
      },
      "execution_count": 6,
      "outputs": [
        {
          "output_type": "stream",
          "name": "stdout",
          "text": [
            "Car: 2022 Toyota Corolla\n"
          ]
        }
      ]
    },
    {
      "cell_type": "markdown",
      "source": [
        "**Q3:-Explain the difference between instance methods and class methods. Provide an example of each?**\n",
        "\n",
        "**Ans:-**Instance Methods vs Class Methods\n",
        "\n",
        "**Instance Method**\n",
        "\n",
        "Defined without any decorator.\n",
        "\n",
        "The first parameter is self, which refers to the specific object (instance) of the class.\n",
        "\n",
        "Can access and modify instance variables.\n",
        "\n",
        "**Class Method**\n",
        "\n",
        "Defined using the @classmethod decorator.\n",
        "\n",
        "The first parameter is cls, which refers to the class itself.\n",
        "\n",
        "Can access and modify class variables, but not instance variables directly."
      ],
      "metadata": {
        "id": "MehdTdHZ7VSf"
      }
    },
    {
      "cell_type": "code",
      "source": [
        "#Example:-Instance Methods\n",
        "class Person:\n",
        "    def __init__(self, name):\n",
        "        self.name = name\n",
        "\n",
        "    def greet(self):  # instance method\n",
        "        print(f\"Hello, my name is {self.name}\")\n",
        "\n",
        "p = Person(\"Alice\")\n",
        "p.greet()"
      ],
      "metadata": {
        "colab": {
          "base_uri": "https://localhost:8080/"
        },
        "id": "CqJtmqV67k_M",
        "outputId": "2ada252b-4cb7-47a3-bf30-df71d80cde89"
      },
      "execution_count": 7,
      "outputs": [
        {
          "output_type": "stream",
          "name": "stdout",
          "text": [
            "Hello, my name is Alice\n"
          ]
        }
      ]
    },
    {
      "cell_type": "code",
      "source": [
        "#Example:Class Method\n",
        "class Person:\n",
        "    species = \"Homo sapiens\"\n",
        "\n",
        "    @classmethod\n",
        "    def species_info(cls):  # class method\n",
        "        print(f\"We all belong to the species: {cls.species}\")\n",
        "\n",
        "Person.species_info()"
      ],
      "metadata": {
        "colab": {
          "base_uri": "https://localhost:8080/"
        },
        "id": "gQ9DLxUB8GzF",
        "outputId": "4cb33c7c-3486-4b20-feb3-53ad1c714edd"
      },
      "execution_count": 8,
      "outputs": [
        {
          "output_type": "stream",
          "name": "stdout",
          "text": [
            "We all belong to the species: Homo sapiens\n"
          ]
        }
      ]
    },
    {
      "cell_type": "markdown",
      "source": [
        "**Q4:-How does Python implement method overloading? Give an example.**\n",
        "\n",
        "**Ans:-**Method Overloading in Python\n",
        "Unlike some other languages (like Java or C++), Python does not support traditional method overloading — that is, defining multiple methods in the same class with the same name but different parameters.\n",
        "\n",
        "Instead, Python uses default arguments or variable-length arguments (*args, **kwargs) to simulate method overloading."
      ],
      "metadata": {
        "id": "_lOy0BZO8nIB"
      }
    },
    {
      "cell_type": "code",
      "source": [
        "#Example using default arguments:\n",
        "class Calculator:\n",
        "    def add(self, a, b=0, c=0):\n",
        "        return a + b + c\n",
        "\n",
        "calc = Calculator()\n",
        "print(calc.add(5))\n",
        "print(calc.add(5, 3))\n",
        "print(calc.add(5, 3, 2))"
      ],
      "metadata": {
        "id": "OkBBt6Jw6wJ5",
        "colab": {
          "base_uri": "https://localhost:8080/"
        },
        "outputId": "8ae000d7-f2a0-4aca-adf4-551206558350"
      },
      "execution_count": 9,
      "outputs": [
        {
          "output_type": "stream",
          "name": "stdout",
          "text": [
            "5\n",
            "8\n",
            "10\n"
          ]
        }
      ]
    },
    {
      "cell_type": "markdown",
      "source": [
        "**Q5:-What are the three types of access modifiers in Python? How are they denoted?**\n",
        "\n",
        "**Ans:-**In Python, there are three types of access modifiers used to control the visibility of class members (attributes and methods). These are:\n",
        "\n",
        "1. Public\n",
        "Access Level: Accessible from anywhere — inside or outside the class.\n",
        "\n",
        "Notation: No underscore (_) prefix.\n",
        "\n",
        "2. Protected\n",
        "Access Level: Meant to be accessed only within the class and its subclasses.\n",
        "\n",
        "Notation: Single underscore prefix (_).\n",
        "\n",
        "3. Private\n",
        "Access Level: Intended to be accessed only within the class where it is defined.\n",
        "\n",
        "Notation: Double underscore prefix (__)."
      ],
      "metadata": {
        "id": "H63OKC-ocbMC"
      }
    },
    {
      "cell_type": "code",
      "source": [
        "#1. Public\n",
        "class MyClass:\n",
        "    def __init__(self):\n",
        "        self.value = 10"
      ],
      "metadata": {
        "id": "fIXwqrrJa7dd"
      },
      "execution_count": 10,
      "outputs": []
    },
    {
      "cell_type": "code",
      "source": [
        "#2. Protected\n",
        "class MyClass:\n",
        "    def __init__(self):\n",
        "        self._value = 20"
      ],
      "metadata": {
        "id": "sLEXu2JZdriA"
      },
      "execution_count": 11,
      "outputs": []
    },
    {
      "cell_type": "code",
      "source": [
        "#3. Private\n",
        "class MyClass:\n",
        "    def __init__(self):\n",
        "        self.__value = 30"
      ],
      "metadata": {
        "id": "mA18LrYjeT-Q"
      },
      "execution_count": 12,
      "outputs": []
    },
    {
      "cell_type": "markdown",
      "source": [
        "**Q6:-Describe the five types of inheritance in Python. Provide a simple example of multiple inheritance.**\n",
        "\n",
        "**Ans:-**\n",
        "1. Single Inheritance\n",
        "A child class inherits from one parent class.\n",
        "\n",
        "2. Multiple Inheritance\n",
        "A child class inherits from more than one parent class.\n",
        "\n",
        "3. Multilevel Inheritance\n",
        "A class inherits from a child class, which itself inherits from another class.\n",
        "\n",
        "4. Hierarchical Inheritance\n",
        "Multiple child classes inherit from a single parent class.\n",
        "\n",
        "5. Hybrid Inheritance\n",
        "A combination of two or more types of inheritance."
      ],
      "metadata": {
        "id": "iBLtm6_ue6nN"
      }
    },
    {
      "cell_type": "code",
      "source": [
        "#1. Single Inheritance\n",
        "class Parent:\n",
        "    def greet(self):\n",
        "        print(\"Hello from Parent\")\n",
        "\n",
        "class Child(Parent):\n",
        "    pass\n",
        "\n",
        "c = Child()\n",
        "c.greet()"
      ],
      "metadata": {
        "colab": {
          "base_uri": "https://localhost:8080/"
        },
        "id": "TbxFKMO7elx-",
        "outputId": "05d891e9-1626-4e08-a3a9-f30cd099ecd7"
      },
      "execution_count": 13,
      "outputs": [
        {
          "output_type": "stream",
          "name": "stdout",
          "text": [
            "Hello from Parent\n"
          ]
        }
      ]
    },
    {
      "cell_type": "code",
      "source": [
        "#2. Multiple Inheritance\n",
        "class Father:\n",
        "    def skills(self):\n",
        "        print(\"Gardening, Driving\")\n",
        "\n",
        "class Mother:\n",
        "    def skills(self):\n",
        "        print(\"Cooking, Painting\")\n",
        "\n",
        "class Child(Father, Mother):\n",
        "    pass\n",
        "\n",
        "c = Child()\n",
        "c.skills()"
      ],
      "metadata": {
        "colab": {
          "base_uri": "https://localhost:8080/"
        },
        "id": "9Uw_4AZjh0kS",
        "outputId": "161ed319-1745-4e0a-eb17-9b475afa2695"
      },
      "execution_count": 14,
      "outputs": [
        {
          "output_type": "stream",
          "name": "stdout",
          "text": [
            "Gardening, Driving\n"
          ]
        }
      ]
    },
    {
      "cell_type": "code",
      "source": [
        "#3. Multilevel Inheritance\n",
        "class Grandparent:\n",
        "    def greet(self):\n",
        "        print(\"Hello from Grandparent\")\n",
        "\n",
        "class Parent(Grandparent):\n",
        "    pass\n",
        "\n",
        "class Child(Parent):\n",
        "    pass\n",
        "\n",
        "c = Child()\n",
        "c.greet()"
      ],
      "metadata": {
        "colab": {
          "base_uri": "https://localhost:8080/"
        },
        "id": "8JmUiIgciImi",
        "outputId": "a7b7dacc-f1aa-4b9c-fc96-d050dac3d9b3"
      },
      "execution_count": 15,
      "outputs": [
        {
          "output_type": "stream",
          "name": "stdout",
          "text": [
            "Hello from Grandparent\n"
          ]
        }
      ]
    },
    {
      "cell_type": "code",
      "source": [
        "#4. Hierarchical Inheritance\n",
        "class Parent:\n",
        "    def greet(self):\n",
        "        print(\"Hello from Parent\")\n",
        "\n",
        "class Child1(Parent):\n",
        "    pass\n",
        "\n",
        "class Child2(Parent):\n",
        "    pass\n",
        "\n",
        "Child1().greet()\n",
        "Child2().greet()"
      ],
      "metadata": {
        "colab": {
          "base_uri": "https://localhost:8080/"
        },
        "id": "1NAwJGSfia-S",
        "outputId": "ed6c25d3-2529-4c71-b44a-27448956eee4"
      },
      "execution_count": 16,
      "outputs": [
        {
          "output_type": "stream",
          "name": "stdout",
          "text": [
            "Hello from Parent\n",
            "Hello from Parent\n"
          ]
        }
      ]
    },
    {
      "cell_type": "code",
      "source": [
        "#5. Hybrid Inheritance\n",
        "class A:\n",
        "    def show(self):\n",
        "        print(\"Class A\")\n",
        "\n",
        "class B(A):\n",
        "    pass\n",
        "\n",
        "class C:\n",
        "    def show(self):\n",
        "        print(\"Class C\")\n",
        "\n",
        "class D(B, C):\n",
        "    pass\n",
        "\n",
        "d = D()\n",
        "d.show()"
      ],
      "metadata": {
        "colab": {
          "base_uri": "https://localhost:8080/"
        },
        "id": "p6A3RzZ2iuj6",
        "outputId": "35fcc50c-9e2c-41e0-ba77-f077e5ae579d"
      },
      "execution_count": 17,
      "outputs": [
        {
          "output_type": "stream",
          "name": "stdout",
          "text": [
            "Class A\n"
          ]
        }
      ]
    },
    {
      "cell_type": "markdown",
      "source": [
        "**Q7:-What is the Method Resolution Order (MRO) in Python? How can you retrieve it programmatically?**\n",
        "\n",
        "**Ans:-**Method Resolution Order (MRO) is the order in which Python looks for a method or attribute when it is called on an object — especially in the context of multiple inheritance.\n",
        "\n",
        "Python uses C3 linearization (also called C3 superclass linearization) to determine the MRO.\n",
        "\n",
        "It ensures that:\n",
        "\n",
        "A class appears before its parent.\n",
        "\n",
        "If a class inherits from multiple classes, they are searched left to right.\n",
        "\n",
        "The order is consistent and respects inheritance hierarchy."
      ],
      "metadata": {
        "id": "H05JgnW0ns45"
      }
    },
    {
      "cell_type": "code",
      "source": [
        "#EXAMPLE\n",
        "class A:\n",
        "    def show(self): print(\"A\")\n",
        "\n",
        "class B(A):\n",
        "    def show(self): print(\"B\")\n",
        "\n",
        "class C(A):\n",
        "    def show(self): print(\"C\")\n",
        "\n",
        "class D(B, C):\n",
        "    pass\n",
        "\n",
        "d = D()\n",
        "d.show()"
      ],
      "metadata": {
        "colab": {
          "base_uri": "https://localhost:8080/"
        },
        "id": "BqHi5xJToiVk",
        "outputId": "51a5c46a-21f3-46ab-f3dc-196b839e80b1"
      },
      "execution_count": 18,
      "outputs": [
        {
          "output_type": "stream",
          "name": "stdout",
          "text": [
            "B\n"
          ]
        }
      ]
    },
    {
      "cell_type": "code",
      "source": [
        "#How to Retrieve MRO Programmatically\n",
        "#You can get the MRO using:\n",
        "\n",
        "#1. The __mro__ attribute:\n",
        "\n",
        "print(D.__mro__)\n",
        "\n",
        "#2. The mro() method:\n",
        "\n",
        "print(D.mro())"
      ],
      "metadata": {
        "colab": {
          "base_uri": "https://localhost:8080/"
        },
        "id": "LzvwT_LporJK",
        "outputId": "e8fd7be7-f369-4e6f-ce8e-40d340c88a00"
      },
      "execution_count": 19,
      "outputs": [
        {
          "output_type": "stream",
          "name": "stdout",
          "text": [
            "(<class '__main__.D'>, <class '__main__.B'>, <class '__main__.C'>, <class '__main__.A'>, <class 'object'>)\n",
            "[<class '__main__.D'>, <class '__main__.B'>, <class '__main__.C'>, <class '__main__.A'>, <class 'object'>]\n"
          ]
        }
      ]
    },
    {
      "cell_type": "markdown",
      "source": [
        "**Q8:-Create an abstract base class `Shape` with an abstract method `area()`. Then create two subclasses `Circle` and `Rectangle` that implement the `area()` method**\n"
      ],
      "metadata": {
        "id": "sOXZ-93njNyW"
      }
    },
    {
      "cell_type": "code",
      "source": [
        "from abc import ABC, abstractmethod\n",
        "import math\n",
        "\n",
        "# Abstract base class\n",
        "class Shape(ABC):\n",
        "\n",
        "    @abstractmethod\n",
        "    def area(self):\n",
        "        pass\n",
        "\n",
        "# Subclass: Circle\n",
        "class Circle(Shape):\n",
        "\n",
        "    def __init__(self, radius):\n",
        "        self.radius = radius\n",
        "\n",
        "    def area(self):\n",
        "        return math.pi * self.radius ** 2\n",
        "\n",
        "# Subclass: Rectangle\n",
        "class Rectangle(Shape):\n",
        "\n",
        "    def __init__(self, width, height):\n",
        "        self.width = width\n",
        "        self.height = height\n",
        "\n",
        "    def area(self):\n",
        "        return self.width * self.height\n",
        "\n",
        "# Example usage\n",
        "circle = Circle(5)\n",
        "rectangle = Rectangle(4, 6)\n",
        "\n",
        "print(\"Circle area:\", circle.area())\n",
        "print(\"Rectangle area:\", rectangle.area())"
      ],
      "metadata": {
        "colab": {
          "base_uri": "https://localhost:8080/"
        },
        "id": "fNoTWvfpjFNt",
        "outputId": "ee9dca96-70b5-4e83-953f-c39aef4a3327"
      },
      "execution_count": 20,
      "outputs": [
        {
          "output_type": "stream",
          "name": "stdout",
          "text": [
            "Circle area: 78.53981633974483\n",
            "Rectangle area: 24\n"
          ]
        }
      ]
    },
    {
      "cell_type": "code",
      "source": [
        "#Q9:-Demonstrate polymorphism by creating a function that can work with different shape objects to calculate and print their areas\n",
        "from abc import ABC, abstractmethod\n",
        "import math\n",
        "\n",
        "# Abstract base class\n",
        "class Shape(ABC):\n",
        "\n",
        "    @abstractmethod\n",
        "    def area(self):\n",
        "        pass\n",
        "\n",
        "# Circle class\n",
        "class Circle(Shape):\n",
        "    def __init__(self, radius):\n",
        "        self.radius = radius\n",
        "\n",
        "    def area(self):\n",
        "        return math.pi * self.radius ** 2\n",
        "\n",
        "# Rectangle class\n",
        "class Rectangle(Shape):\n",
        "    def __init__(self, width, height):\n",
        "        self.width = width\n",
        "        self.height = height\n",
        "\n",
        "    def area(self):\n",
        "        return self.width * self.height\n",
        "\n",
        "# Triangle class\n",
        "class Triangle(Shape):\n",
        "    def __init__(self, base, height):\n",
        "        self.base = base\n",
        "        self.height = height\n",
        "\n",
        "    def area(self):\n",
        "        return 0.5 * self.base * self.height\n",
        "\n",
        "# Polymorphic function\n",
        "def print_area(shape: Shape):\n",
        "    print(f\"The area is: {shape.area():.2f}\")\n",
        "\n",
        "# Usage with different shape objects\n",
        "shapes = [\n",
        "    Circle(5),\n",
        "    Rectangle(4, 6),\n",
        "    Triangle(3, 7)\n",
        "]\n",
        "\n",
        "for shape in shapes:\n",
        "    print_area(shape)"
      ],
      "metadata": {
        "colab": {
          "base_uri": "https://localhost:8080/"
        },
        "id": "6r0NjjR4j10T",
        "outputId": "9956ae2b-6ac6-4282-fcd0-908a80218833"
      },
      "execution_count": 21,
      "outputs": [
        {
          "output_type": "stream",
          "name": "stdout",
          "text": [
            "The area is: 78.54\n",
            "The area is: 24.00\n",
            "The area is: 10.50\n"
          ]
        }
      ]
    },
    {
      "cell_type": "code",
      "source": [
        "#Q10:- Implement encapsulation in a `BankAccount` class with private attributes for `balance` and `account_number`. Include methods for deposit, withdrawal, and balance inquiry.\n",
        "class BankAccount:\n",
        "    def __init__(self, account_number, initial_balance=0):\n",
        "        self.__account_number = account_number  # Private attribute\n",
        "        self.__balance = initial_balance        # Private attribute\n",
        "\n",
        "    # Public method to deposit money\n",
        "    def deposit(self, amount):\n",
        "        if amount > 0:\n",
        "            self.__balance += amount\n",
        "            print(f\"Deposited ${amount:.2f}\")\n",
        "        else:\n",
        "            print(\"Invalid deposit amount.\")\n",
        "\n",
        "    # Public method to withdraw money\n",
        "    def withdraw(self, amount):\n",
        "        if amount <= 0:\n",
        "            print(\"Invalid withdrawal amount.\")\n",
        "        elif amount > self.__balance:\n",
        "            print(\"Insufficient funds.\")\n",
        "        else:\n",
        "            self.__balance -= amount\n",
        "            print(f\"Withdrew ${amount:.2f}\")\n",
        "\n",
        "    # Public method to check balance\n",
        "    def get_balance(self):\n",
        "        return self.__balance\n",
        "\n",
        "    # Public method to get account number\n",
        "    def get_account_number(self):\n",
        "        return self.__account_number"
      ],
      "metadata": {
        "id": "CAhSJiXMpj2d"
      },
      "execution_count": 22,
      "outputs": []
    },
    {
      "cell_type": "code",
      "source": [
        "account = BankAccount(\"1234567890\", 1000)\n",
        "\n",
        "account.deposit(500)\n",
        "account.withdraw(300)\n",
        "print(\"Current Balance:\", account.get_balance())\n",
        "print(\"Account Number:\", account.get_account_number())"
      ],
      "metadata": {
        "colab": {
          "base_uri": "https://localhost:8080/"
        },
        "id": "2uKc60DHqGzd",
        "outputId": "add1420d-20bf-4bf3-9dc7-9513e421169e"
      },
      "execution_count": 23,
      "outputs": [
        {
          "output_type": "stream",
          "name": "stdout",
          "text": [
            "Deposited $500.00\n",
            "Withdrew $300.00\n",
            "Current Balance: 1200\n",
            "Account Number: 1234567890\n"
          ]
        }
      ]
    },
    {
      "cell_type": "code",
      "source": [
        "#Q11:-Write a class that overrides the `__str__` and `__add__` magic methods. What will these methods allow you to do?\n",
        "\n",
        "#Ans:-_str__\tControls how an object is printed or converted to a string using str(obj) or print(obj)\n",
        "#__add__\tControls how objects of the class behave with the + operator\n",
        "\n",
        "class Book:\n",
        "    def __init__(self, title, pages):\n",
        "        self.title = title\n",
        "        self.pages = pages\n",
        "\n",
        "    # Override __str__ for human-readable printing\n",
        "    def __str__(self):\n",
        "        return f\"Book: '{self.title}' with {self.pages} pages\"\n",
        "\n",
        "    # Override __add__ to combine two books\n",
        "    def __add__(self, other):\n",
        "        if isinstance(other, Book):\n",
        "            new_title = f\"{self.title} & {other.title}\"\n",
        "            new_pages = self.pages + other.pages\n",
        "            return Book(new_title, new_pages)\n",
        "        return NotImplemented\n",
        "#Example Usage:\n",
        "\n",
        "book1 = Book(\"Python Basics\", 200)\n",
        "book2 = Book(\"Advanced Python\", 300)\n",
        "\n",
        "print(book1)\n",
        "\n",
        "\n",
        "book3 = book1 + book2\n",
        "print(book3)"
      ],
      "metadata": {
        "colab": {
          "base_uri": "https://localhost:8080/"
        },
        "id": "V4MbEltGqJH_",
        "outputId": "67881768-fe92-433c-ba6e-75e8c9416614"
      },
      "execution_count": 24,
      "outputs": [
        {
          "output_type": "stream",
          "name": "stdout",
          "text": [
            "Book: 'Python Basics' with 200 pages\n",
            "Book: 'Python Basics & Advanced Python' with 500 pages\n"
          ]
        }
      ]
    },
    {
      "cell_type": "code",
      "source": [
        "#Q12:-Create a decorator that measures and prints the execution time of a function.\n",
        "\n",
        "import time\n",
        "\n",
        "def timing_decorator(func):\n",
        "    def wrapper(*args, **kwargs):\n",
        "        start_time = time.time()  # Record start time\n",
        "        result = func(*args, **kwargs)\n",
        "        end_time = time.time()    # Record end time\n",
        "        duration = end_time - start_time\n",
        "        print(f\"Execution time of '{func.__name__}': {duration:.4f} seconds\")\n",
        "        return result\n",
        "    return wrapper\n",
        "\n",
        "#Usage Example\n",
        "\n",
        "@timing_decorator\n",
        "def slow_function():\n",
        "    time.sleep(2)\n",
        "    print(\"Finished slow function\")\n",
        "\n",
        "slow_function()"
      ],
      "metadata": {
        "colab": {
          "base_uri": "https://localhost:8080/"
        },
        "id": "Lev52usGq6XJ",
        "outputId": "a2bddbd2-3ca1-4ac1-cdd0-fcbee50d0465"
      },
      "execution_count": 25,
      "outputs": [
        {
          "output_type": "stream",
          "name": "stdout",
          "text": [
            "Finished slow function\n",
            "Execution time of 'slow_function': 2.0003 seconds\n"
          ]
        }
      ]
    },
    {
      "cell_type": "markdown",
      "source": [
        "**Q13:-Explain the concept of the Diamond Problem in multiple inheritance. How does Python resolve it?**\n",
        "\n",
        "**Ans:-**The Diamond Problem occurs in multiple inheritance when a class inherits from two classes that both inherit from the same base class.\n",
        "\n",
        "This creates an inheritance diamond shape, and the main issue is ambiguity: which version of a method or attribute should the bottom class inherit?\n",
        "\n"
      ],
      "metadata": {
        "id": "MQuxdTYQrokm"
      }
    },
    {
      "cell_type": "code",
      "source": [
        "class A:\n",
        "    def greet(self):\n",
        "        print(\"Hello from A\")\n",
        "\n",
        "class B(A):\n",
        "    def greet(self):\n",
        "        print(\"Hello from B\")\n",
        "\n",
        "class C(A):\n",
        "    def greet(self):\n",
        "        print(\"Hello from C\")\n",
        "\n",
        "class D(B, C):\n",
        "    pass\n",
        "\n",
        "d = D()\n",
        "d.greet()\n",
        "\n",
        "print(D.mro())\n",
        "# OR\n",
        "print(D.__mro__)"
      ],
      "metadata": {
        "colab": {
          "base_uri": "https://localhost:8080/"
        },
        "id": "--NdWLzWrV30",
        "outputId": "ed07a230-f163-4c37-cd80-cb3033d20f29"
      },
      "execution_count": 26,
      "outputs": [
        {
          "output_type": "stream",
          "name": "stdout",
          "text": [
            "Hello from B\n",
            "[<class '__main__.D'>, <class '__main__.B'>, <class '__main__.C'>, <class '__main__.A'>, <class 'object'>]\n",
            "(<class '__main__.D'>, <class '__main__.B'>, <class '__main__.C'>, <class '__main__.A'>, <class 'object'>)\n"
          ]
        }
      ]
    },
    {
      "cell_type": "code",
      "source": [
        "#Q14:-Write a class method that keeps track of the number of instances created from a class?\n",
        "\n",
        "class MyClass:\n",
        "    instance_count = 0\n",
        "\n",
        "    def __init__(self):\n",
        "        MyClass.instance_count += 1\n",
        "\n",
        "    @classmethod\n",
        "    def get_instance_count(cls):\n",
        "        return cls.instance_count\n",
        "\n",
        "a = MyClass()\n",
        "b = MyClass()\n",
        "c = MyClass()\n",
        "\n",
        "print(\"Instances created:\", MyClass.get_instance_count())"
      ],
      "metadata": {
        "colab": {
          "base_uri": "https://localhost:8080/"
        },
        "id": "3XLjDH0tsPOp",
        "outputId": "1a618e1d-011b-49eb-c15c-f3388f397ce4"
      },
      "execution_count": 27,
      "outputs": [
        {
          "output_type": "stream",
          "name": "stdout",
          "text": [
            "Instances created: 3\n"
          ]
        }
      ]
    },
    {
      "cell_type": "code",
      "source": [
        "#Q15:- Implement a static method in a class that checks if a given year is a leap year.\n",
        "class DateUtils:\n",
        "\n",
        "    @staticmethod\n",
        "    def is_leap_year(year):\n",
        "        if (year % 4 == 0 and year % 100 != 0) or (year % 400 == 0):\n",
        "            return True\n",
        "        return False\n",
        "\n",
        "print(DateUtils.is_leap_year(2020))\n",
        "print(DateUtils.is_leap_year(1900))\n",
        "print(DateUtils.is_leap_year(2000))\n",
        "print(DateUtils.is_leap_year(2023))\n"
      ],
      "metadata": {
        "colab": {
          "base_uri": "https://localhost:8080/"
        },
        "id": "sFlz4p9_styM",
        "outputId": "5cbc4296-fd80-43e5-ccf4-5dce8d257619"
      },
      "execution_count": 28,
      "outputs": [
        {
          "output_type": "stream",
          "name": "stdout",
          "text": [
            "True\n",
            "False\n",
            "True\n",
            "False\n"
          ]
        }
      ]
    },
    {
      "cell_type": "code",
      "source": [],
      "metadata": {
        "id": "NmCKKhSfs-ET"
      },
      "execution_count": null,
      "outputs": []
    }
  ]
}